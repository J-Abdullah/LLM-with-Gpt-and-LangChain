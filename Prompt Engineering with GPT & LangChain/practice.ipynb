{
 "cells": [
  {
   "cell_type": "code",
   "execution_count": 1,
   "metadata": {},
   "outputs": [],
   "source": [
    "import os\n",
    "import openai"
   ]
  },
  {
   "cell_type": "code",
   "execution_count": 3,
   "metadata": {},
   "outputs": [],
   "source": [
    "from langchain_openai import OpenAI, ChatOpenAI\n",
    "\n",
    "from langchain.prompts import PromptTemplate, ChatPromptTemplate\n",
    "\n",
    "from langchain.output_parsers import CommaSeparatedListOutputParser\n",
    "\n",
    "from langchain_experimental.agents.agent_toolkits import create_python_agent\n",
    "\n",
    "from langchain_experimental.tools.python.tool import PythonREPLTool"
   ]
  },
  {
   "cell_type": "code",
   "execution_count": 4,
   "metadata": {},
   "outputs": [
    {
     "data": {
      "text/plain": [
       "[\"Finnish Aktia Group 's operating profit rose to EUR 17.5 mn in the first quarter of 2010 from EUR 8.2 mn in the first quarter of 2009 .\\n\",\n",
       " 'Finnish measuring equipment maker Vaisala Oyj HEL : VAIAS said today that its net loss widened to EUR4 .8 m in the first half of 2010 from EUR2 .3 m in the corresponding period a year earlier .\\n',\n",
       " 'Finnish pharmaceuticals company Orion reports profit before taxes of EUR 70.0 mn in the third quarter of 2010 , up from EUR 54.9 mn in the corresponding period in 2009 .\\n',\n",
       " 'Tiimari , the Finnish retailer , reported to have geenrated quarterly revenues totalling EUR 1.3 mn in the 4th quarter 2009 , up from EUR 0.3 mn loss in 2008 .\\n',\n",
       " \"Finnish Metso Paper has been awarded a contract for the rebuild of Sabah Forest Industries ' ( SFI ) pulp mill in Sabah , Malaysia .\\n\",\n",
       " 'Finnish Outokumpu Technology has been awarded several new grinding technology contracts .']"
      ]
     },
     "execution_count": 4,
     "metadata": {},
     "output_type": "execute_result"
    }
   ],
   "source": [
    "with open('financial_headlines.txt','r') as file:\n",
    "    headlines = file.readlines()\n",
    "headlines"
   ]
  },
  {
   "cell_type": "code",
   "execution_count": 5,
   "metadata": {},
   "outputs": [
    {
     "data": {
      "text/plain": [
       "[\"Finnish Aktia Group 's operating profit rose to EUR 17.5 mn in the first quarter of 2010 from EUR 8.2 mn in the first quarter of 2009 .\",\n",
       " 'Finnish measuring equipment maker Vaisala Oyj HEL : VAIAS said today that its net loss widened to EUR4 .8 m in the first half of 2010 from EUR2 .3 m in the corresponding period a year earlier .',\n",
       " 'Finnish pharmaceuticals company Orion reports profit before taxes of EUR 70.0 mn in the third quarter of 2010 , up from EUR 54.9 mn in the corresponding period in 2009 .',\n",
       " 'Tiimari , the Finnish retailer , reported to have geenrated quarterly revenues totalling EUR 1.3 mn in the 4th quarter 2009 , up from EUR 0.3 mn loss in 2008 .',\n",
       " \"Finnish Metso Paper has been awarded a contract for the rebuild of Sabah Forest Industries ' ( SFI ) pulp mill in Sabah , Malaysia .\",\n",
       " 'Finnish Outokumpu Technology has been awarded several new grinding technology contracts .']"
      ]
     },
     "execution_count": 5,
     "metadata": {},
     "output_type": "execute_result"
    }
   ],
   "source": [
    "headlines =[line.strip('\\n') for line in headlines]\n",
    "headlines"
   ]
  },
  {
   "cell_type": "code",
   "execution_count": 6,
   "metadata": {},
   "outputs": [
    {
     "data": {
      "text/plain": [
       "\"Analyze the following financial headline for sentiment: Finnish Aktia Group 's operating profit rose to EUR 17.5 mn in the first quarter of 2010 from EUR 8.2 mn in the first quarter of 2009 .\""
      ]
     },
     "execution_count": 6,
     "metadata": {},
     "output_type": "execute_result"
    }
   ],
   "source": [
    "prompt_template = PromptTemplate.from_template(\n",
    "    template=\"Analyze the following financial headline for sentiment: {headline}\",\n",
    ")\n",
    "\n",
    "formatted_template = prompt_template.format(headline=headlines[0])\n",
    "formatted_template"
   ]
  },
  {
   "cell_type": "code",
   "execution_count": 9,
   "metadata": {},
   "outputs": [
    {
     "data": {
      "text/plain": [
       "[SystemMessage(content='You are performing sentiment analysis on news headlines regarding financial analysis. \\n    This sentiment is to be used to advice financial analysts. \\n    The format of the output has to be consistent. \\n    The output is strictly limited to any of the following options: [positive, negative, neutral].', additional_kwargs={}, response_metadata={}),\n",
       " HumanMessage(content=\"Analyze the following financial headline for sentiment: Finnish Aktia Group 's operating profit rose to EUR 17.5 mn in the first quarter of 2010 from EUR 8.2 mn in the first quarter of 2009 .\", additional_kwargs={}, response_metadata={})]"
      ]
     },
     "execution_count": 9,
     "metadata": {},
     "output_type": "execute_result"
    }
   ],
   "source": [
    "system_message = \"\"\"You are performing sentiment analysis on news headlines regarding financial analysis. \n",
    "    This sentiment is to be used to advice financial analysts. \n",
    "    The format of the output has to be consistent. \n",
    "    The output is strictly limited to any of the following options: [positive, negative, neutral].\"\"\"\n",
    "\n",
    "chat_template = ChatPromptTemplate.from_messages([\n",
    "    (\"system\",system_message),\n",
    "    (\"human\",\"Analyze the following financial headline for sentiment: {headline}\")\n",
    "])\n",
    "\n",
    "formatted_chat_template = chat_template.format_messages(\n",
    "    headline= headlines[0]\n",
    ")\n",
    "\n",
    "formatted_chat_template"
   ]
  },
  {
   "cell_type": "code",
   "execution_count": null,
   "metadata": {},
   "outputs": [],
   "source": [
    "client =OpenAI()\n",
    "\n",
    "completion_chain = prompt_template | client\n",
    "\n",
    "completion_chain.invoke({\"headline\":headlines[0]})"
   ]
  },
  {
   "cell_type": "code",
   "execution_count": null,
   "metadata": {},
   "outputs": [],
   "source": [
    "# Define a chat client model. Assign to chat.\n",
    "chat = ChatOpenAI()\n",
    "\n",
    "# Pipe the chat template to the client. Assign to chat_chain.\n",
    "chat_chain = chat_template | chat\n",
    "\n",
    "# Invoke chat_chain, setting headline to the first headline and using system_message\n",
    "chat_chain.invoke({\"headline\": headlines[0]}, {\"system_message\": system_message})"
   ]
  },
  {
   "cell_type": "code",
   "execution_count": null,
   "metadata": {},
   "outputs": [],
   "source": [
    "# Instantiate the output parser.\n",
    "output_parser = CommaSeparatedListOutputParser()\n",
    "\n",
    "# Get the format instructions from the output parser.\n",
    "format_instructions = output_parser.get_format_instructions()\n",
    "\n",
    "# Instantiate a new prompt template with the format instructions.\n",
    "company_name_template = PromptTemplate(\n",
    "    template=\"List all the company names from the following headlines, limited to one name per headline: {headlines}.\\n{format_instructions}\",\n",
    "    input_variables=[\"headlines\"],\n",
    "    partial_variables={\"format_instructions\": format_instructions}\n",
    ")\n",
    "\n",
    "# Format the prompt using all headlines.\n",
    "formatted_company_name_template = company_name_template.format(headlines=headlines)"
   ]
  },
  {
   "cell_type": "code",
   "execution_count": null,
   "metadata": {},
   "outputs": [],
   "source": [
    "# Instantiate a Langchain OpenAI Model object.\n",
    "model = OpenAI(temperature=0)\n",
    "\n",
    "# Invoke the model on the input.\n",
    "_output = model.invoke(formatted_company_name_template)\n",
    "\n",
    "# Parse the output.\n",
    "company_names = output_parser.parse(_output)\n",
    "\n",
    "# Print the data type the parsed output.\n",
    "print(f\"Data type: {type(company_names)}\\n\")\n",
    "\n",
    "# Print the output.\n",
    "print(company_names)"
   ]
  },
  {
   "cell_type": "code",
   "execution_count": null,
   "metadata": {},
   "outputs": [],
   "source": [
    "# Instantiate a Python agent, with the PythonREPLTool.\n",
    "agent_executor = create_python_agent(\n",
    "    llm=OpenAI(temperature=0, max_tokens=1000),\n",
    "    tool=PythonREPLTool(),\n",
    "    verbose=True\n",
    ")\n",
    "\n",
    "# Ask the agent for the solution of a mathematical equation.\n",
    "agent_executor.invoke(\"What is the square root of 250? Round the answer down to 4 decimals.\")"
   ]
  },
  {
   "cell_type": "code",
   "execution_count": null,
   "metadata": {},
   "outputs": [],
   "source": [
    "agent_executor.invoke(f\"\"\"For every of the following headlines, extract the company name and whether the financial sentiment is   positive, neutral or negative. \n",
    "   Load this data into a pandas dataframe. \n",
    "   The dataframe will have three columns: the name of the company, whether the financial sentiment is positive or negative and the headline itself. \n",
    "   The dataframe can then be saved in the current working directory under the name financial_analysis.csv.\n",
    "   If a csv file already exists with the same name, it should be overwritten.\n",
    "\n",
    "   The headlines are the following:\n",
    "   {headlines}\n",
    "   \"\"\")"
   ]
  },
  {
   "cell_type": "code",
   "execution_count": null,
   "metadata": {},
   "outputs": [],
   "source": [
    "# Make the necessary import.\n",
    "import pandas as pd\n",
    "\n",
    "# Load the CSV file into a dataframe.\n",
    "df = pd.read_csv(\"financial_analysis.csv\")\n",
    "\n",
    "# Print the dataframe.\n",
    "df"
   ]
  },
  {
   "cell_type": "code",
   "execution_count": null,
   "metadata": {},
   "outputs": [],
   "source": [
    "# Create a new prompt template with output parsing.\n",
    "sentiment_template = PromptTemplate(\n",
    "    template=\"Get the financial sentiment of each of the following headlines. The output is strictly limited to any of the following options: ['Positive', 'Negative', 'Neutral']: {headlines}.\\n{format_instructions}\",\n",
    "    input_variables=[\"headlines\"],\n",
    "    partial_variables={\"format_instructions\": format_instructions}\n",
    ")\n",
    "\n",
    "# Format the prompt template.\n",
    "formatted_sentiment_template = sentiment_template.format(headlines=headlines)\n",
    "\n",
    "# Invoke the model on the formatted prompt template.\n",
    "_output = model.invoke(formatted_sentiment_template)\n",
    "\n",
    "# Parse the output.\n",
    "sentiments = output_parser.parse(_output)\n",
    "\n",
    "# Print the list of sentiments.\n",
    "sentiments"
   ]
  },
  {
   "cell_type": "code",
   "execution_count": 10,
   "metadata": {},
   "outputs": [],
   "source": [
    "def visulize(headline,sentiment):\n",
    "    assert len(headlines) == len(sentiment)\n",
    "    for i,_ in enumerate(headlines):\n",
    "        print(f\"{sentiment[i]}:{headlines[i]}\")\n",
    "#visulize(sentiments,headlines)"
   ]
  },
  {
   "cell_type": "code",
   "execution_count": null,
   "metadata": {},
   "outputs": [],
   "source": [
    "sentiment_examples = \"\"\"\n",
    "    If a company is doing financially better than before, the sentiment is positive. For example, when profits or revenue have increased since the last quarter or year, exceeding expectations, a contract is awarded or an acquisition is announced.\n",
    "    If the company's profits are decreasing, losses are mounting up or overall performance is not meeting expectations, the sentiment is negative.\n",
    "    If nothing positive or negative is mentioned from a financial perspective, the sentiment is neutral.\n",
    "\"\"\"\n",
    "\n",
    "sentiment_template = PromptTemplate(\n",
    "    template=\"Get the financial sentiment of each of the following headlines. {few_shot_examples} The output is strictly limited to any of the following options: ['Positive', 'Negative', 'Neutral']: {headlines}.\\n{format_instructions}\",\n",
    "    input_variables=[\"headlines\", \"few_shot_examples\"],\n",
    "    partial_variables={\"format_instructions\": format_instructions}\n",
    ")\n",
    "\n",
    "# Format the template.\n",
    "formatted_sentiment_template = sentiment_template.format(headlines=headlines, few_shot_examples=sentiment_examples)\n",
    "\n",
    "# Invoke the model on the formatted template.\n",
    "_output = model.invoke(formatted_sentiment_template)\n",
    "\n",
    "# Parse the model output.\n",
    "sentiments = output_parser.parse(_output)\n",
    "\n",
    "# Visualize the result.\n",
    "visulize(headlines, sentiments)\n"
   ]
  },
  {
   "cell_type": "code",
   "execution_count": null,
   "metadata": {},
   "outputs": [],
   "source": [
    "agent_executor.invoke(f\"\"\"Create a dataframe with two columns: company_name, sentiment and headline.\n",
    "To fill the dataframe, use the following lists respectively: {str(company_names)}, {str(sentiments)} and {str(headlines)}. \n",
    "The dataframe can then be saved in the current working directory under the name financial_analysis_with_parsing.csv.\n",
    "If a csv file already exists with the same name, it should be overwritten.\n",
    "\"\"\")"
   ]
  },
  {
   "cell_type": "code",
   "execution_count": null,
   "metadata": {},
   "outputs": [],
   "source": [
    "# Load the CSV file into a dataframe.\n",
    "df = pd.read_csv(\"financial_analysis_with_parsing.csv\")\n",
    "\n",
    "# Print the dataframe.\n",
    "df"
   ]
  },
  {
   "cell_type": "code",
   "execution_count": null,
   "metadata": {},
   "outputs": [],
   "source": [
    "with open('reddit_comments.txt','r') as file:\n",
    "    comments = file.readlines()"
   ]
  },
  {
   "cell_type": "code",
   "execution_count": null,
   "metadata": {},
   "outputs": [],
   "source": [
    "# Pick a comment.\n",
    "comment = comments[0]\n",
    "\n",
    "# Define an OpenAI model. Assign to client.\n",
    "client = openai.OpenAI()\n",
    "\n",
    "# Send the comment to the Moderation API.\n",
    "moderation_output = client.moderations.create(input=comment)\n",
    "\n",
    "# Optionally print the comment.\n",
    "# print(comment)\n",
    "\n",
    "# Print the output.\n",
    "moderation_output"
   ]
  },
  {
   "cell_type": "code",
   "execution_count": null,
   "metadata": {},
   "outputs": [],
   "source": [
    "pd.DataFrame(moderation_output.results[0].dict())[[\"categories\", \"category_scores\"]]"
   ]
  }
 ],
 "metadata": {
  "kernelspec": {
   "display_name": "Langchain",
   "language": "python",
   "name": "python3"
  },
  "language_info": {
   "codemirror_mode": {
    "name": "ipython",
    "version": 3
   },
   "file_extension": ".py",
   "mimetype": "text/x-python",
   "name": "python",
   "nbconvert_exporter": "python",
   "pygments_lexer": "ipython3",
   "version": "3.11.1"
  }
 },
 "nbformat": 4,
 "nbformat_minor": 2
}
